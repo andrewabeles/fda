{
 "cells": [
  {
   "cell_type": "code",
   "execution_count": 1,
   "metadata": {},
   "outputs": [],
   "source": [
    "import sagemaker\n",
    "import boto3\n",
    "import json\n",
    "import pandas as pd\n",
    "import os"
   ]
  },
  {
   "cell_type": "code",
   "execution_count": 2,
   "metadata": {},
   "outputs": [],
   "source": [
    "def read_s3_files(client, bucket_name, prefix, columns):\n",
    "    keys = get_keys(client, bucket_name, prefix)\n",
    "    dfs = []\n",
    "    for key in keys:\n",
    "        df = read_s3_file(client, bucket_name, key, columns)\n",
    "        dfs.append(df)\n",
    "    return pd.concat(dfs, ignore_index=True)"
   ]
  },
  {
   "cell_type": "code",
   "execution_count": 3,
   "metadata": {},
   "outputs": [],
   "source": [
    "def get_keys(client, bucket_name, prefix):\n",
    "    response = client.list_objects_v2(Bucket=bucket_name, Prefix=prefix)\n",
    "    return [o['Key'] for o in response['Contents']]"
   ]
  },
  {
   "cell_type": "code",
   "execution_count": 4,
   "metadata": {},
   "outputs": [],
   "source": [
    "def read_s3_file(client, bucket_name, key, columns):\n",
    "    response = s3.get_object(Bucket=bucket_name, Key=key)\n",
    "    content = response['Body'].read()\n",
    "    data = json.loads(content)\n",
    "    return pd.json_normalize(data['results'])[columns]"
   ]
  },
  {
   "cell_type": "code",
   "execution_count": 5,
   "metadata": {},
   "outputs": [],
   "source": [
    "session = sagemaker.Session()"
   ]
  },
  {
   "cell_type": "code",
   "execution_count": 6,
   "metadata": {},
   "outputs": [],
   "source": [
    "s3 = boto3.client('s3')"
   ]
  },
  {
   "cell_type": "code",
   "execution_count": 7,
   "metadata": {},
   "outputs": [],
   "source": [
    "bucket = session.default_bucket()"
   ]
  },
  {
   "cell_type": "code",
   "execution_count": 8,
   "metadata": {},
   "outputs": [],
   "source": [
    "drugsfda_columns = [\n",
    "    'application_number',\n",
    "    'openfda.spl_id',\n",
    "    'openfda.spl_set_id',\n",
    "    'openfda.product_ndc',\n",
    "    'openfda.substance_name'\n",
    "]"
   ]
  },
  {
   "cell_type": "code",
   "execution_count": 9,
   "metadata": {},
   "outputs": [],
   "source": [
    "ndc_columns = [\n",
    "    'product_id',\n",
    "    'product_ndc',\n",
    "    'spl_id',\n",
    "    'application_number',\n",
    "    'dea_schedule',\n",
    "    'dosage_form',\n",
    "    'finished',\n",
    "    'marketing_category',\n",
    "    'marketing_start_date',\n",
    "    'marketing_end_date',\n",
    "    'openfda.pharm_class_cs',\n",
    "    'openfda.pharm_class_epc',\n",
    "    'openfda.pharm_class_pe',\n",
    "    'openfda.pharm_class_moa',\n",
    "    'pharm_class',\n",
    "    'product_type',\n",
    "    'route'\n",
    "]"
   ]
  },
  {
   "cell_type": "code",
   "execution_count": 10,
   "metadata": {},
   "outputs": [],
   "source": [
    "label_columns = [\n",
    "    'id',\n",
    "    'set_id',\n",
    "    'version',\n",
    "    'effective_time',\n",
    "    'drug_interactions'\n",
    "]"
   ]
  },
  {
   "cell_type": "code",
   "execution_count": 11,
   "metadata": {},
   "outputs": [],
   "source": [
    "os.makedirs('data', exist_ok=True) # make a directory to store the files"
   ]
  },
  {
   "cell_type": "code",
   "execution_count": 12,
   "metadata": {},
   "outputs": [],
   "source": [
    "drugsfda = read_s3_files(s3, bucket, 'data/raw/drugsfda/', drugsfda_columns)"
   ]
  },
  {
   "cell_type": "code",
   "execution_count": 13,
   "metadata": {},
   "outputs": [],
   "source": [
    "drugsfda.to_csv('data/drugsfda.csv', index=False)"
   ]
  },
  {
   "cell_type": "code",
   "execution_count": 14,
   "metadata": {},
   "outputs": [],
   "source": [
    "del drugsfda # delete dataframe to save memory"
   ]
  },
  {
   "cell_type": "code",
   "execution_count": 15,
   "metadata": {},
   "outputs": [],
   "source": [
    "ndc = read_s3_files(s3, bucket, 'data/raw/ndc/', ndc_columns)"
   ]
  },
  {
   "cell_type": "code",
   "execution_count": 16,
   "metadata": {},
   "outputs": [],
   "source": [
    "ndc.to_csv('data/ndc.csv', index=False)"
   ]
  },
  {
   "cell_type": "code",
   "execution_count": 17,
   "metadata": {},
   "outputs": [],
   "source": [
    "del ndc # delete dataframe to save memory"
   ]
  },
  {
   "cell_type": "code",
   "execution_count": 18,
   "metadata": {},
   "outputs": [],
   "source": [
    "label = read_s3_files(s3, bucket, 'data/raw/label/', label_columns)"
   ]
  },
  {
   "cell_type": "code",
   "execution_count": 19,
   "metadata": {},
   "outputs": [],
   "source": [
    "label.to_csv('data/label.csv', index=False)"
   ]
  },
  {
   "cell_type": "code",
   "execution_count": 20,
   "metadata": {},
   "outputs": [],
   "source": [
    "del label # delete dataframe to save memory"
   ]
  }
 ],
 "metadata": {
  "instance_type": "ml.t3.medium",
  "kernelspec": {
   "display_name": "Python 3 (Data Science)",
   "language": "python",
   "name": "python3__SAGEMAKER_INTERNAL__arn:aws:sagemaker:us-east-1:081325390199:image/datascience-1.0"
  },
  "language_info": {
   "codemirror_mode": {
    "name": "ipython",
    "version": 3
   },
   "file_extension": ".py",
   "mimetype": "text/x-python",
   "name": "python",
   "nbconvert_exporter": "python",
   "pygments_lexer": "ipython3",
   "version": "3.7.10"
  }
 },
 "nbformat": 4,
 "nbformat_minor": 4
}
