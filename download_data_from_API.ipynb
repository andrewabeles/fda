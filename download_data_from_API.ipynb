{
 "cells": [
  {
   "cell_type": "code",
   "execution_count": 2,
   "metadata": {},
   "outputs": [],
   "source": [
    "import requests\n",
    "import zipfile\n",
    "import io\n",
    "import json\n",
    "import os"
   ]
  },
  {
   "cell_type": "code",
   "execution_count": 3,
   "metadata": {},
   "outputs": [],
   "source": [
    "def get_download_metadata():\n",
    "    r = requests.get('https://api.fda.gov/download.json')\n",
    "    return r.json()"
   ]
  },
  {
   "cell_type": "code",
   "execution_count": 4,
   "metadata": {},
   "outputs": [],
   "source": [
    "def get_file_paths(download_metadata, endpoint):\n",
    "    partitions = download_metadata['results']['drug'][endpoint]['partitions']\n",
    "    file_paths = [p['file'] for p in partitions]\n",
    "    return file_paths"
   ]
  },
  {
   "cell_type": "code",
   "execution_count": 5,
   "metadata": {},
   "outputs": [],
   "source": [
    "def download_file(from_path, to_dir, endpoint):\n",
    "    r = requests.get(from_path) # call API to download zipped file from given path\n",
    "    z = zipfile.ZipFile(io.BytesIO(r.content)) # read file content into ZipFile object\n",
    "    for n in z.namelist(): # for each of the file names in the ZipFile \n",
    "        data = json.loads(z.read(n)) # load its data as a dictionary\n",
    "        to_path = os.path.join(to_dir, endpoint, n) # assemble path to be written to\n",
    "        os.makedirs(to_dir, exist_ok=True) # create directory if doesn't exist\n",
    "        with open(to_path, 'w') as f:\n",
    "            json.dump(data['results'], f) # write the results data to that path"
   ]
  },
  {
   "cell_type": "code",
   "execution_count": 6,
   "metadata": {},
   "outputs": [],
   "source": [
    "def download_files(endpoints, to_dir):\n",
    "    download_metadata = get_download_metadata()\n",
    "    for ep in endpoints:\n",
    "        file_paths = get_file_paths(download_metadata, ep)\n",
    "        for fp in file_paths:\n",
    "            download_file(fp, to_dir, ep)"
   ]
  },
  {
   "cell_type": "code",
   "execution_count": 7,
   "metadata": {},
   "outputs": [],
   "source": [
    "download_files(['ndc', 'drugsfda', 'label'], 'data')"
   ]
  },
  {
   "cell_type": "code",
   "execution_count": null,
   "metadata": {},
   "outputs": [],
   "source": []
  }
 ],
 "metadata": {
  "instance_type": "ml.t3.medium",
  "kernelspec": {
   "display_name": "Python 3 (Data Science)",
   "language": "python",
   "name": "python3__SAGEMAKER_INTERNAL__arn:aws:sagemaker:us-east-1:081325390199:image/datascience-1.0"
  },
  "language_info": {
   "codemirror_mode": {
    "name": "ipython",
    "version": 3
   },
   "file_extension": ".py",
   "mimetype": "text/x-python",
   "name": "python",
   "nbconvert_exporter": "python",
   "pygments_lexer": "ipython3",
   "version": "3.7.10"
  }
 },
 "nbformat": 4,
 "nbformat_minor": 4
}
