{
 "cells": [
  {
   "cell_type": "code",
   "execution_count": 2,
   "metadata": {},
   "outputs": [],
   "source": [
    "import boto3\n",
    "import sagemaker\n",
    "from sagemaker.inputs import TrainingInput\n",
    "from sagemaker.tuner import IntegerParameter\n",
    "from sagemaker.tuner import ContinuousParameter\n",
    "from sagemaker.tuner import CategoricalParameter\n",
    "from sagemaker.tuner import HyperparameterTuner\n",
    "from sagemaker.xgboost.estimator import XGBoost\n",
    "from sagemaker.analytics import HyperparameterTuningJobAnalytics"
   ]
  },
  {
   "cell_type": "code",
   "execution_count": 3,
   "metadata": {},
   "outputs": [],
   "source": [
    "sess = sagemaker.Session()\n",
    "bucket = sess.default_bucket()\n",
    "role = sagemaker.get_execution_role()\n",
    "region = boto3.Session().region_name\n",
    "\n",
    "sm = boto3.Session().client(service_name='sagemaker', region_name=region)"
   ]
  },
  {
   "cell_type": "code",
   "execution_count": 4,
   "metadata": {},
   "outputs": [],
   "source": [
    "xgboost_container = sagemaker.image_uris.retrieve(framework='xgboost', region=region, version='latest')"
   ]
  },
  {
   "cell_type": "code",
   "execution_count": 5,
   "metadata": {},
   "outputs": [],
   "source": [
    "train_data_s3_uri = 's3://{}/data/train/train/'.format(bucket)\n",
    "validation_data_s3_uri = 's3://{}/data/train/validation/'.format(bucket)"
   ]
  },
  {
   "cell_type": "code",
   "execution_count": 6,
   "metadata": {},
   "outputs": [],
   "source": [
    "s3_input_train_data = TrainingInput(s3_data=train_data_s3_uri, content_type='csv')\n",
    "s3_input_validation_data = TrainingInput(s3_data=validation_data_s3_uri, content_type='csv')"
   ]
  },
  {
   "cell_type": "code",
   "execution_count": 7,
   "metadata": {},
   "outputs": [],
   "source": [
    "hyperparameters = {\n",
    "    'objective': 'binary:logistic',\n",
    "    'num_round': 50\n",
    "}"
   ]
  },
  {
   "cell_type": "code",
   "execution_count": 8,
   "metadata": {},
   "outputs": [],
   "source": [
    "estimator = sagemaker.estimator.Estimator(\n",
    "    image_uri=xgboost_container,\n",
    "    hyperparameters=hyperparameters,\n",
    "    role=sagemaker.get_execution_role(),\n",
    "    instance_count=1,\n",
    "    instance_type='ml.m5.large',\n",
    "    sagemaker_session=sess\n",
    ")"
   ]
  },
  {
   "cell_type": "code",
   "execution_count": 9,
   "metadata": {},
   "outputs": [],
   "source": [
    "hyperparameter_ranges = {\n",
    "    'num_round': IntegerParameter(1, 1000, scaling_type='Logarithmic'),\n",
    "    'colsample_bytree': ContinuousParameter(0.5, 1, scaling_type='Linear'),\n",
    "    'lambda': ContinuousParameter(0.0001, 1000, scaling_type='Logarithmic')\n",
    "}"
   ]
  },
  {
   "cell_type": "code",
   "execution_count": 10,
   "metadata": {},
   "outputs": [],
   "source": [
    "objective_metric_name = 'validation:auc'"
   ]
  },
  {
   "cell_type": "code",
   "execution_count": 11,
   "metadata": {},
   "outputs": [],
   "source": [
    "tuner = HyperparameterTuner(\n",
    "    estimator=estimator,\n",
    "    objective_type=\"Minimize\",\n",
    "    objective_metric_name=objective_metric_name,\n",
    "    hyperparameter_ranges=hyperparameter_ranges,\n",
    "    max_jobs=10,\n",
    "    max_parallel_jobs=3,\n",
    "    strategy='Bayesian',\n",
    "    early_stopping_type='Auto'\n",
    ")"
   ]
  },
  {
   "cell_type": "code",
   "execution_count": 12,
   "metadata": {},
   "outputs": [],
   "source": [
    "tuner.fit(\n",
    "    inputs={\n",
    "        'train': s3_input_train_data,\n",
    "        'validation': s3_input_validation_data\n",
    "    },\n",
    "    include_cls_metadata=False,\n",
    "    wait=False\n",
    ")"
   ]
  },
  {
   "cell_type": "code",
   "execution_count": 13,
   "metadata": {},
   "outputs": [
    {
     "name": "stdout",
     "output_type": "stream",
     "text": [
      ".........................................................................................................................................................................................................................................................................!\n"
     ]
    }
   ],
   "source": [
    "tuner.wait()"
   ]
  },
  {
   "cell_type": "code",
   "execution_count": 14,
   "metadata": {},
   "outputs": [],
   "source": [
    "hp_results = HyperparameterTuningJobAnalytics(\n",
    "    sagemaker_session=sess,\n",
    "    hyperparameter_tuning_job_name=tuner.latest_tuning_job.job_name\n",
    ")"
   ]
  },
  {
   "cell_type": "code",
   "execution_count": 15,
   "metadata": {},
   "outputs": [],
   "source": [
    "df_results = hp_results.dataframe()"
   ]
  },
  {
   "cell_type": "code",
   "execution_count": 20,
   "metadata": {},
   "outputs": [
    {
     "data": {
      "text/html": [
       "<div>\n",
       "<style scoped>\n",
       "    .dataframe tbody tr th:only-of-type {\n",
       "        vertical-align: middle;\n",
       "    }\n",
       "\n",
       "    .dataframe tbody tr th {\n",
       "        vertical-align: top;\n",
       "    }\n",
       "\n",
       "    .dataframe thead th {\n",
       "        text-align: right;\n",
       "    }\n",
       "</style>\n",
       "<table border=\"1\" class=\"dataframe\">\n",
       "  <thead>\n",
       "    <tr style=\"text-align: right;\">\n",
       "      <th></th>\n",
       "      <th>colsample_bytree</th>\n",
       "      <th>lambda</th>\n",
       "      <th>num_round</th>\n",
       "      <th>TrainingJobName</th>\n",
       "      <th>TrainingJobStatus</th>\n",
       "      <th>FinalObjectiveValue</th>\n",
       "      <th>TrainingStartTime</th>\n",
       "      <th>TrainingEndTime</th>\n",
       "      <th>TrainingElapsedTimeSeconds</th>\n",
       "    </tr>\n",
       "  </thead>\n",
       "  <tbody>\n",
       "    <tr>\n",
       "      <th>0</th>\n",
       "      <td>0.601764</td>\n",
       "      <td>0.000304</td>\n",
       "      <td>1.0</td>\n",
       "      <td>xgboost-220329-0214-010-40d2735a</td>\n",
       "      <td>Completed</td>\n",
       "      <td>0.592264</td>\n",
       "      <td>2022-03-29 02:26:51+00:00</td>\n",
       "      <td>2022-03-29 02:27:59+00:00</td>\n",
       "      <td>68.0</td>\n",
       "    </tr>\n",
       "    <tr>\n",
       "      <th>1</th>\n",
       "      <td>0.987994</td>\n",
       "      <td>0.000991</td>\n",
       "      <td>848.0</td>\n",
       "      <td>xgboost-220329-0214-009-e1dcff0f</td>\n",
       "      <td>Completed</td>\n",
       "      <td>0.412167</td>\n",
       "      <td>2022-03-29 02:23:11+00:00</td>\n",
       "      <td>2022-03-29 02:25:43+00:00</td>\n",
       "      <td>152.0</td>\n",
       "    </tr>\n",
       "    <tr>\n",
       "      <th>2</th>\n",
       "      <td>0.949588</td>\n",
       "      <td>2.798148</td>\n",
       "      <td>626.0</td>\n",
       "      <td>xgboost-220329-0214-008-d779ce98</td>\n",
       "      <td>Completed</td>\n",
       "      <td>0.412019</td>\n",
       "      <td>2022-03-29 02:23:24+00:00</td>\n",
       "      <td>2022-03-29 02:24:52+00:00</td>\n",
       "      <td>88.0</td>\n",
       "    </tr>\n",
       "    <tr>\n",
       "      <th>3</th>\n",
       "      <td>0.963519</td>\n",
       "      <td>0.015415</td>\n",
       "      <td>165.0</td>\n",
       "      <td>xgboost-220329-0214-007-d6a28936</td>\n",
       "      <td>Completed</td>\n",
       "      <td>0.411637</td>\n",
       "      <td>2022-03-29 02:34:18+00:00</td>\n",
       "      <td>2022-03-29 02:35:40+00:00</td>\n",
       "      <td>82.0</td>\n",
       "    </tr>\n",
       "    <tr>\n",
       "      <th>4</th>\n",
       "      <td>0.666043</td>\n",
       "      <td>3.113342</td>\n",
       "      <td>66.0</td>\n",
       "      <td>xgboost-220329-0214-006-d7704018</td>\n",
       "      <td>Completed</td>\n",
       "      <td>0.411514</td>\n",
       "      <td>2022-03-29 02:20:07+00:00</td>\n",
       "      <td>2022-03-29 02:21:14+00:00</td>\n",
       "      <td>67.0</td>\n",
       "    </tr>\n",
       "    <tr>\n",
       "      <th>5</th>\n",
       "      <td>0.824588</td>\n",
       "      <td>113.991017</td>\n",
       "      <td>84.0</td>\n",
       "      <td>xgboost-220329-0214-005-f738df6c</td>\n",
       "      <td>Completed</td>\n",
       "      <td>0.411736</td>\n",
       "      <td>2022-03-29 02:19:44+00:00</td>\n",
       "      <td>2022-03-29 02:21:34+00:00</td>\n",
       "      <td>110.0</td>\n",
       "    </tr>\n",
       "    <tr>\n",
       "      <th>6</th>\n",
       "      <td>0.630582</td>\n",
       "      <td>91.178953</td>\n",
       "      <td>249.0</td>\n",
       "      <td>xgboost-220329-0214-004-a00b3c69</td>\n",
       "      <td>Completed</td>\n",
       "      <td>0.411142</td>\n",
       "      <td>2022-03-29 02:19:39+00:00</td>\n",
       "      <td>2022-03-29 02:21:12+00:00</td>\n",
       "      <td>93.0</td>\n",
       "    </tr>\n",
       "    <tr>\n",
       "      <th>7</th>\n",
       "      <td>0.778356</td>\n",
       "      <td>1.743800</td>\n",
       "      <td>110.0</td>\n",
       "      <td>xgboost-220329-0214-003-a8ba8363</td>\n",
       "      <td>Completed</td>\n",
       "      <td>0.411778</td>\n",
       "      <td>2022-03-29 02:16:48+00:00</td>\n",
       "      <td>2022-03-29 02:18:05+00:00</td>\n",
       "      <td>77.0</td>\n",
       "    </tr>\n",
       "    <tr>\n",
       "      <th>8</th>\n",
       "      <td>0.835443</td>\n",
       "      <td>0.000561</td>\n",
       "      <td>29.0</td>\n",
       "      <td>xgboost-220329-0214-002-cf534b35</td>\n",
       "      <td>Completed</td>\n",
       "      <td>0.411407</td>\n",
       "      <td>2022-03-29 02:16:48+00:00</td>\n",
       "      <td>2022-03-29 02:18:20+00:00</td>\n",
       "      <td>92.0</td>\n",
       "    </tr>\n",
       "    <tr>\n",
       "      <th>9</th>\n",
       "      <td>0.784141</td>\n",
       "      <td>0.006920</td>\n",
       "      <td>8.0</td>\n",
       "      <td>xgboost-220329-0214-001-4da205b3</td>\n",
       "      <td>Completed</td>\n",
       "      <td>0.426173</td>\n",
       "      <td>2022-03-29 02:16:45+00:00</td>\n",
       "      <td>2022-03-29 02:17:52+00:00</td>\n",
       "      <td>67.0</td>\n",
       "    </tr>\n",
       "  </tbody>\n",
       "</table>\n",
       "</div>"
      ],
      "text/plain": [
       "   colsample_bytree      lambda  num_round                   TrainingJobName  \\\n",
       "0          0.601764    0.000304        1.0  xgboost-220329-0214-010-40d2735a   \n",
       "1          0.987994    0.000991      848.0  xgboost-220329-0214-009-e1dcff0f   \n",
       "2          0.949588    2.798148      626.0  xgboost-220329-0214-008-d779ce98   \n",
       "3          0.963519    0.015415      165.0  xgboost-220329-0214-007-d6a28936   \n",
       "4          0.666043    3.113342       66.0  xgboost-220329-0214-006-d7704018   \n",
       "5          0.824588  113.991017       84.0  xgboost-220329-0214-005-f738df6c   \n",
       "6          0.630582   91.178953      249.0  xgboost-220329-0214-004-a00b3c69   \n",
       "7          0.778356    1.743800      110.0  xgboost-220329-0214-003-a8ba8363   \n",
       "8          0.835443    0.000561       29.0  xgboost-220329-0214-002-cf534b35   \n",
       "9          0.784141    0.006920        8.0  xgboost-220329-0214-001-4da205b3   \n",
       "\n",
       "  TrainingJobStatus  FinalObjectiveValue         TrainingStartTime  \\\n",
       "0         Completed             0.592264 2022-03-29 02:26:51+00:00   \n",
       "1         Completed             0.412167 2022-03-29 02:23:11+00:00   \n",
       "2         Completed             0.412019 2022-03-29 02:23:24+00:00   \n",
       "3         Completed             0.411637 2022-03-29 02:34:18+00:00   \n",
       "4         Completed             0.411514 2022-03-29 02:20:07+00:00   \n",
       "5         Completed             0.411736 2022-03-29 02:19:44+00:00   \n",
       "6         Completed             0.411142 2022-03-29 02:19:39+00:00   \n",
       "7         Completed             0.411778 2022-03-29 02:16:48+00:00   \n",
       "8         Completed             0.411407 2022-03-29 02:16:48+00:00   \n",
       "9         Completed             0.426173 2022-03-29 02:16:45+00:00   \n",
       "\n",
       "            TrainingEndTime  TrainingElapsedTimeSeconds  \n",
       "0 2022-03-29 02:27:59+00:00                        68.0  \n",
       "1 2022-03-29 02:25:43+00:00                       152.0  \n",
       "2 2022-03-29 02:24:52+00:00                        88.0  \n",
       "3 2022-03-29 02:35:40+00:00                        82.0  \n",
       "4 2022-03-29 02:21:14+00:00                        67.0  \n",
       "5 2022-03-29 02:21:34+00:00                       110.0  \n",
       "6 2022-03-29 02:21:12+00:00                        93.0  \n",
       "7 2022-03-29 02:18:05+00:00                        77.0  \n",
       "8 2022-03-29 02:18:20+00:00                        92.0  \n",
       "9 2022-03-29 02:17:52+00:00                        67.0  "
      ]
     },
     "execution_count": 20,
     "metadata": {},
     "output_type": "execute_result"
    }
   ],
   "source": [
    "df_results"
   ]
  },
  {
   "cell_type": "markdown",
   "metadata": {},
   "source": [
    "Visualize the change in the objective metric's value. "
   ]
  },
  {
   "cell_type": "code",
   "execution_count": 27,
   "metadata": {},
   "outputs": [
    {
     "data": {
      "text/plain": [
       "<matplotlib.axes._subplots.AxesSubplot at 0x7f616dc64a50>"
      ]
     },
     "execution_count": 27,
     "metadata": {},
     "output_type": "execute_result"
    },
    {
     "data": {
      "image/png": "[encoded data removed]",
      "text/plain": [
       "<Figure size 432x288 with 1 Axes>"
      ]
     },
     "metadata": {
      "needs_background": "light"
     },
     "output_type": "display_data"
    }
   ],
   "source": [
    "df_results['FinalObjectiveValue'].plot()"
   ]
  },
  {
   "cell_type": "markdown",
   "metadata": {},
   "source": [
    "Examine the hyperparameters of the best performing training job. "
   ]
  },
  {
   "cell_type": "code",
   "execution_count": 22,
   "metadata": {},
   "outputs": [
    {
     "data": {
      "text/html": [
       "<div>\n",
       "<style scoped>\n",
       "    .dataframe tbody tr th:only-of-type {\n",
       "        vertical-align: middle;\n",
       "    }\n",
       "\n",
       "    .dataframe tbody tr th {\n",
       "        vertical-align: top;\n",
       "    }\n",
       "\n",
       "    .dataframe thead th {\n",
       "        text-align: right;\n",
       "    }\n",
       "</style>\n",
       "<table border=\"1\" class=\"dataframe\">\n",
       "  <thead>\n",
       "    <tr style=\"text-align: right;\">\n",
       "      <th></th>\n",
       "      <th>colsample_bytree</th>\n",
       "      <th>lambda</th>\n",
       "      <th>num_round</th>\n",
       "      <th>TrainingJobName</th>\n",
       "      <th>TrainingJobStatus</th>\n",
       "      <th>FinalObjectiveValue</th>\n",
       "      <th>TrainingStartTime</th>\n",
       "      <th>TrainingEndTime</th>\n",
       "      <th>TrainingElapsedTimeSeconds</th>\n",
       "    </tr>\n",
       "  </thead>\n",
       "  <tbody>\n",
       "    <tr>\n",
       "      <th>6</th>\n",
       "      <td>0.630582</td>\n",
       "      <td>91.178953</td>\n",
       "      <td>249.0</td>\n",
       "      <td>xgboost-220329-0214-004-a00b3c69</td>\n",
       "      <td>Completed</td>\n",
       "      <td>0.411142</td>\n",
       "      <td>2022-03-29 02:19:39+00:00</td>\n",
       "      <td>2022-03-29 02:21:12+00:00</td>\n",
       "      <td>93.0</td>\n",
       "    </tr>\n",
       "  </tbody>\n",
       "</table>\n",
       "</div>"
      ],
      "text/plain": [
       "   colsample_bytree     lambda  num_round                   TrainingJobName  \\\n",
       "6          0.630582  91.178953      249.0  xgboost-220329-0214-004-a00b3c69   \n",
       "\n",
       "  TrainingJobStatus  FinalObjectiveValue         TrainingStartTime  \\\n",
       "6         Completed             0.411142 2022-03-29 02:19:39+00:00   \n",
       "\n",
       "            TrainingEndTime  TrainingElapsedTimeSeconds  \n",
       "6 2022-03-29 02:21:12+00:00                        93.0  "
      ]
     },
     "execution_count": 22,
     "metadata": {},
     "output_type": "execute_result"
    }
   ],
   "source": [
    "df_results[df_results['FinalObjectiveValue'] == df_results['FinalObjectiveValue'].min()]"
   ]
  },
  {
   "cell_type": "markdown",
   "metadata": {},
   "source": [
    "Deploy the best performing model. "
   ]
  },
  {
   "cell_type": "code",
   "execution_count": null,
   "metadata": {},
   "outputs": [
    {
     "name": "stdout",
     "output_type": "stream",
     "text": [
      "\n",
      "2022-03-29 02:21:12 Starting - Preparing the instances for training\n",
      "2022-03-29 02:21:12 Downloading - Downloading input data\n",
      "2022-03-29 02:21:12 Training - Training image download completed. Training in progress.\n",
      "2022-03-29 02:21:12 Uploading - Uploading generated training model\n",
      "2022-03-29 02:21:12 Completed - Training job completed\n",
      "---"
     ]
    }
   ],
   "source": [
    "predictor = tuner.deploy(initial_instance_count=1, instance_type='ml.m5.large')"
   ]
  },
  {
   "cell_type": "code",
   "execution_count": null,
   "metadata": {},
   "outputs": [],
   "source": []
  }
 ],
 "metadata": {
  "instance_type": "ml.t3.medium",
  "kernelspec": {
   "display_name": "Python 3 (Data Science)",
   "language": "python",
   "name": "python3__SAGEMAKER_INTERNAL__arn:aws:sagemaker:us-east-1:081325390199:image/datascience-1.0"
  },
  "language_info": {
   "codemirror_mode": {
    "name": "ipython",
    "version": 3
   },
   "file_extension": ".py",
   "mimetype": "text/x-python",
   "name": "python",
   "nbconvert_exporter": "python",
   "pygments_lexer": "ipython3",
   "version": "3.7.10"
  }
 },
 "nbformat": 4,
 "nbformat_minor": 4
}
