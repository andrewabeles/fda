{
 "cells": [
  {
   "cell_type": "code",
   "execution_count": 2,
   "metadata": {},
   "outputs": [],
   "source": [
    "import boto3\n",
    "import sagemaker\n",
    "from sagemaker.inputs import TrainingInput\n",
    "from sagemaker.tuner import IntegerParameter\n",
    "from sagemaker.tuner import ContinuousParameter\n",
    "from sagemaker.tuner import CategoricalParameter\n",
    "from sagemaker.tuner import HyperparameterTuner\n",
    "from sagemaker.xgboost.estimator import XGBoost\n",
    "from sagemaker.analytics import HyperparameterTuningJobAnalytics"
   ]
  },
  {
   "cell_type": "code",
   "execution_count": 3,
   "metadata": {},
   "outputs": [],
   "source": [
    "sess = sagemaker.Session()\n",
    "bucket = sess.default_bucket()\n",
    "role = sagemaker.get_execution_role()\n",
    "region = boto3.Session().region_name\n",
    "\n",
    "sm = boto3.Session().client(service_name='sagemaker', region_name=region)"
   ]
  },
  {
   "cell_type": "code",
   "execution_count": 4,
   "metadata": {},
   "outputs": [],
   "source": [
    "xgboost_container = sagemaker.image_uris.retrieve(framework='xgboost', region=region, version='latest')"
   ]
  },
  {
   "cell_type": "code",
   "execution_count": 5,
   "metadata": {},
   "outputs": [],
   "source": [
    "train_data_s3_uri = 's3://{}/data/train/train/'.format(bucket)\n",
    "validation_data_s3_uri = 's3://{}/data/train/validation/'.format(bucket)"
   ]
  },
  {
   "cell_type": "code",
   "execution_count": 6,
   "metadata": {},
   "outputs": [],
   "source": [
    "s3_input_train_data = TrainingInput(s3_data=train_data_s3_uri, content_type='csv')\n",
    "s3_input_validation_data = TrainingInput(s3_data=validation_data_s3_uri, content_type='csv')"
   ]
  },
  {
   "cell_type": "code",
   "execution_count": 7,
   "metadata": {},
   "outputs": [],
   "source": [
    "hyperparameters = {\n",
    "    'objective': 'binary:logistic',\n",
    "    'num_round': 50\n",
    "}"
   ]
  },
  {
   "cell_type": "code",
   "execution_count": 8,
   "metadata": {},
   "outputs": [],
   "source": [
    "estimator = sagemaker.estimator.Estimator(\n",
    "    image_uri=xgboost_container,\n",
    "    hyperparameters=hyperparameters,\n",
    "    role=sagemaker.get_execution_role(),\n",
    "    instance_count=1,\n",
    "    instance_type='ml.m5.large',\n",
    "    sagemaker_session=sess\n",
    ")"
   ]
  },
  {
   "cell_type": "code",
   "execution_count": 9,
   "metadata": {},
   "outputs": [],
   "source": [
    "hyperparameter_ranges = {\n",
    "    'num_round': IntegerParameter(1, 1000, scaling_type='Logarithmic'),\n",
    "    'colsample_bytree': ContinuousParameter(0.5, 1, scaling_type='Linear'),\n",
    "    'lambda': ContinuousParameter(0.0001, 1000, scaling_type='Logarithmic')\n",
    "}"
   ]
  },
  {
   "cell_type": "code",
   "execution_count": 10,
   "metadata": {},
   "outputs": [],
   "source": [
    "objective_metric_name = 'validation:logloss'"
   ]
  },
  {
   "cell_type": "code",
   "execution_count": 11,
   "metadata": {},
   "outputs": [],
   "source": [
    "tuner = HyperparameterTuner(\n",
    "    estimator=estimator,\n",
    "    objective_type=\"Minimize\",\n",
    "    objective_metric_name=objective_metric_name,\n",
    "    hyperparameter_ranges=hyperparameter_ranges,\n",
    "    max_jobs=10,\n",
    "    max_parallel_jobs=3,\n",
    "    strategy='Bayesian',\n",
    "    early_stopping_type='Auto'\n",
    ")"
   ]
  },
  {
   "cell_type": "code",
   "execution_count": 12,
   "metadata": {},
   "outputs": [],
   "source": [
    "tuner.fit(\n",
    "    inputs={\n",
    "        'train': s3_input_train_data,\n",
    "        'validation': s3_input_validation_data\n",
    "    },\n",
    "    include_cls_metadata=False,\n",
    "    wait=False\n",
    ")"
   ]
  },
  {
   "cell_type": "code",
   "execution_count": 13,
   "metadata": {},
   "outputs": [
    {
     "name": "stdout",
     "output_type": "stream",
     "text": [
      ".............................................................................................................................................................!\n"
     ]
    }
   ],
   "source": [
    "tuner.wait()"
   ]
  },
  {
   "cell_type": "code",
   "execution_count": 14,
   "metadata": {},
   "outputs": [],
   "source": [
    "hp_results = HyperparameterTuningJobAnalytics(\n",
    "    sagemaker_session=sess,\n",
    "    hyperparameter_tuning_job_name=tuner.latest_tuning_job.job_name\n",
    ")"
   ]
  },
  {
   "cell_type": "code",
   "execution_count": 15,
   "metadata": {},
   "outputs": [],
   "source": [
    "df_results = hp_results.dataframe()"
   ]
  },
  {
   "cell_type": "code",
   "execution_count": 16,
   "metadata": {},
   "outputs": [
    {
     "data": {
      "text/html": [
       "<div>\n",
       "<style scoped>\n",
       "    .dataframe tbody tr th:only-of-type {\n",
       "        vertical-align: middle;\n",
       "    }\n",
       "\n",
       "    .dataframe tbody tr th {\n",
       "        vertical-align: top;\n",
       "    }\n",
       "\n",
       "    .dataframe thead th {\n",
       "        text-align: right;\n",
       "    }\n",
       "</style>\n",
       "<table border=\"1\" class=\"dataframe\">\n",
       "  <thead>\n",
       "    <tr style=\"text-align: right;\">\n",
       "      <th></th>\n",
       "      <th>colsample_bytree</th>\n",
       "      <th>lambda</th>\n",
       "      <th>num_round</th>\n",
       "      <th>TrainingJobName</th>\n",
       "      <th>TrainingJobStatus</th>\n",
       "      <th>FinalObjectiveValue</th>\n",
       "      <th>TrainingStartTime</th>\n",
       "      <th>TrainingEndTime</th>\n",
       "      <th>TrainingElapsedTimeSeconds</th>\n",
       "    </tr>\n",
       "  </thead>\n",
       "  <tbody>\n",
       "    <tr>\n",
       "      <th>0</th>\n",
       "      <td>0.548571</td>\n",
       "      <td>0.001584</td>\n",
       "      <td>125.0</td>\n",
       "      <td>xgboost-220401-0353-010-203ca854</td>\n",
       "      <td>Completed</td>\n",
       "      <td>0.412410</td>\n",
       "      <td>2022-04-01 04:04:54+00:00</td>\n",
       "      <td>2022-04-01 04:06:01+00:00</td>\n",
       "      <td>67.0</td>\n",
       "    </tr>\n",
       "    <tr>\n",
       "      <th>1</th>\n",
       "      <td>0.509035</td>\n",
       "      <td>0.053001</td>\n",
       "      <td>160.0</td>\n",
       "      <td>xgboost-220401-0353-009-5cf3621e</td>\n",
       "      <td>Failed</td>\n",
       "      <td>NaN</td>\n",
       "      <td>2022-04-01 04:04:44+00:00</td>\n",
       "      <td>2022-04-01 04:06:00+00:00</td>\n",
       "      <td>76.0</td>\n",
       "    </tr>\n",
       "    <tr>\n",
       "      <th>2</th>\n",
       "      <td>0.827135</td>\n",
       "      <td>545.459263</td>\n",
       "      <td>867.0</td>\n",
       "      <td>xgboost-220401-0353-008-50472888</td>\n",
       "      <td>Completed</td>\n",
       "      <td>0.413604</td>\n",
       "      <td>2022-04-01 04:01:45+00:00</td>\n",
       "      <td>2022-04-01 04:03:17+00:00</td>\n",
       "      <td>92.0</td>\n",
       "    </tr>\n",
       "    <tr>\n",
       "      <th>3</th>\n",
       "      <td>0.530458</td>\n",
       "      <td>104.315301</td>\n",
       "      <td>29.0</td>\n",
       "      <td>xgboost-220401-0353-007-4f69be74</td>\n",
       "      <td>Completed</td>\n",
       "      <td>0.424202</td>\n",
       "      <td>2022-04-01 04:01:42+00:00</td>\n",
       "      <td>2022-04-01 04:02:49+00:00</td>\n",
       "      <td>67.0</td>\n",
       "    </tr>\n",
       "    <tr>\n",
       "      <th>4</th>\n",
       "      <td>0.959099</td>\n",
       "      <td>15.746391</td>\n",
       "      <td>139.0</td>\n",
       "      <td>xgboost-220401-0353-006-c3906326</td>\n",
       "      <td>Completed</td>\n",
       "      <td>0.412964</td>\n",
       "      <td>2022-04-01 03:59:46+00:00</td>\n",
       "      <td>2022-04-01 04:00:58+00:00</td>\n",
       "      <td>72.0</td>\n",
       "    </tr>\n",
       "    <tr>\n",
       "      <th>5</th>\n",
       "      <td>0.858034</td>\n",
       "      <td>0.090868</td>\n",
       "      <td>416.0</td>\n",
       "      <td>xgboost-220401-0353-005-ab588233</td>\n",
       "      <td>Completed</td>\n",
       "      <td>0.412221</td>\n",
       "      <td>2022-04-01 03:58:19+00:00</td>\n",
       "      <td>2022-04-01 03:59:36+00:00</td>\n",
       "      <td>77.0</td>\n",
       "    </tr>\n",
       "    <tr>\n",
       "      <th>6</th>\n",
       "      <td>0.849449</td>\n",
       "      <td>0.017978</td>\n",
       "      <td>701.0</td>\n",
       "      <td>xgboost-220401-0353-004-3c6617e6</td>\n",
       "      <td>Completed</td>\n",
       "      <td>0.412234</td>\n",
       "      <td>2022-04-01 03:58:16+00:00</td>\n",
       "      <td>2022-04-01 03:59:38+00:00</td>\n",
       "      <td>82.0</td>\n",
       "    </tr>\n",
       "    <tr>\n",
       "      <th>7</th>\n",
       "      <td>0.835131</td>\n",
       "      <td>0.015604</td>\n",
       "      <td>313.0</td>\n",
       "      <td>xgboost-220401-0353-003-9685c370</td>\n",
       "      <td>Completed</td>\n",
       "      <td>0.412270</td>\n",
       "      <td>2022-04-01 03:55:11+00:00</td>\n",
       "      <td>2022-04-01 03:56:28+00:00</td>\n",
       "      <td>77.0</td>\n",
       "    </tr>\n",
       "    <tr>\n",
       "      <th>8</th>\n",
       "      <td>0.828679</td>\n",
       "      <td>0.138972</td>\n",
       "      <td>84.0</td>\n",
       "      <td>xgboost-220401-0353-002-9ca6f2b5</td>\n",
       "      <td>Completed</td>\n",
       "      <td>0.412413</td>\n",
       "      <td>2022-04-01 03:55:02+00:00</td>\n",
       "      <td>2022-04-01 03:57:31+00:00</td>\n",
       "      <td>149.0</td>\n",
       "    </tr>\n",
       "    <tr>\n",
       "      <th>9</th>\n",
       "      <td>0.774960</td>\n",
       "      <td>0.000147</td>\n",
       "      <td>1.0</td>\n",
       "      <td>xgboost-220401-0353-001-c695f39f</td>\n",
       "      <td>Completed</td>\n",
       "      <td>0.585070</td>\n",
       "      <td>2022-04-01 03:55:12+00:00</td>\n",
       "      <td>2022-04-01 03:56:22+00:00</td>\n",
       "      <td>70.0</td>\n",
       "    </tr>\n",
       "  </tbody>\n",
       "</table>\n",
       "</div>"
      ],
      "text/plain": [
       "   colsample_bytree      lambda  num_round                   TrainingJobName  \\\n",
       "0          0.548571    0.001584      125.0  xgboost-220401-0353-010-203ca854   \n",
       "1          0.509035    0.053001      160.0  xgboost-220401-0353-009-5cf3621e   \n",
       "2          0.827135  545.459263      867.0  xgboost-220401-0353-008-50472888   \n",
       "3          0.530458  104.315301       29.0  xgboost-220401-0353-007-4f69be74   \n",
       "4          0.959099   15.746391      139.0  xgboost-220401-0353-006-c3906326   \n",
       "5          0.858034    0.090868      416.0  xgboost-220401-0353-005-ab588233   \n",
       "6          0.849449    0.017978      701.0  xgboost-220401-0353-004-3c6617e6   \n",
       "7          0.835131    0.015604      313.0  xgboost-220401-0353-003-9685c370   \n",
       "8          0.828679    0.138972       84.0  xgboost-220401-0353-002-9ca6f2b5   \n",
       "9          0.774960    0.000147        1.0  xgboost-220401-0353-001-c695f39f   \n",
       "\n",
       "  TrainingJobStatus  FinalObjectiveValue         TrainingStartTime  \\\n",
       "0         Completed             0.412410 2022-04-01 04:04:54+00:00   \n",
       "1            Failed                  NaN 2022-04-01 04:04:44+00:00   \n",
       "2         Completed             0.413604 2022-04-01 04:01:45+00:00   \n",
       "3         Completed             0.424202 2022-04-01 04:01:42+00:00   \n",
       "4         Completed             0.412964 2022-04-01 03:59:46+00:00   \n",
       "5         Completed             0.412221 2022-04-01 03:58:19+00:00   \n",
       "6         Completed             0.412234 2022-04-01 03:58:16+00:00   \n",
       "7         Completed             0.412270 2022-04-01 03:55:11+00:00   \n",
       "8         Completed             0.412413 2022-04-01 03:55:02+00:00   \n",
       "9         Completed             0.585070 2022-04-01 03:55:12+00:00   \n",
       "\n",
       "            TrainingEndTime  TrainingElapsedTimeSeconds  \n",
       "0 2022-04-01 04:06:01+00:00                        67.0  \n",
       "1 2022-04-01 04:06:00+00:00                        76.0  \n",
       "2 2022-04-01 04:03:17+00:00                        92.0  \n",
       "3 2022-04-01 04:02:49+00:00                        67.0  \n",
       "4 2022-04-01 04:00:58+00:00                        72.0  \n",
       "5 2022-04-01 03:59:36+00:00                        77.0  \n",
       "6 2022-04-01 03:59:38+00:00                        82.0  \n",
       "7 2022-04-01 03:56:28+00:00                        77.0  \n",
       "8 2022-04-01 03:57:31+00:00                       149.0  \n",
       "9 2022-04-01 03:56:22+00:00                        70.0  "
      ]
     },
     "execution_count": 16,
     "metadata": {},
     "output_type": "execute_result"
    }
   ],
   "source": [
    "df_results"
   ]
  },
  {
   "cell_type": "markdown",
   "metadata": {},
   "source": [
    "Visualize the change in the objective metric's value. "
   ]
  },
  {
   "cell_type": "code",
   "execution_count": 28,
   "metadata": {},
   "outputs": [
    {
     "data": {
      "text/plain": [
       "<matplotlib.axes._subplots.AxesSubplot at 0x7fad1cf8d7d0>"
      ]
     },
     "execution_count": 28,
     "metadata": {},
     "output_type": "execute_result"
    },
    {
     "data": {
      "image/png": "[encoded data removed]",
      "text/plain": [
       "<Figure size 432x288 with 1 Axes>"
      ]
     },
     "metadata": {
      "needs_background": "light"
     },
     "output_type": "display_data"
    }
   ],
   "source": [
    "df_results.sort_values('TrainingStartTime').plot(x='TrainingStartTime', y='FinalObjectiveValue', kind='bar')"
   ]
  },
  {
   "cell_type": "markdown",
   "metadata": {},
   "source": [
    "Examine the hyperparameters of the best performing training job. "
   ]
  },
  {
   "cell_type": "code",
   "execution_count": 18,
   "metadata": {},
   "outputs": [
    {
     "data": {
      "text/html": [
       "<div>\n",
       "<style scoped>\n",
       "    .dataframe tbody tr th:only-of-type {\n",
       "        vertical-align: middle;\n",
       "    }\n",
       "\n",
       "    .dataframe tbody tr th {\n",
       "        vertical-align: top;\n",
       "    }\n",
       "\n",
       "    .dataframe thead th {\n",
       "        text-align: right;\n",
       "    }\n",
       "</style>\n",
       "<table border=\"1\" class=\"dataframe\">\n",
       "  <thead>\n",
       "    <tr style=\"text-align: right;\">\n",
       "      <th></th>\n",
       "      <th>colsample_bytree</th>\n",
       "      <th>lambda</th>\n",
       "      <th>num_round</th>\n",
       "      <th>TrainingJobName</th>\n",
       "      <th>TrainingJobStatus</th>\n",
       "      <th>FinalObjectiveValue</th>\n",
       "      <th>TrainingStartTime</th>\n",
       "      <th>TrainingEndTime</th>\n",
       "      <th>TrainingElapsedTimeSeconds</th>\n",
       "    </tr>\n",
       "  </thead>\n",
       "  <tbody>\n",
       "    <tr>\n",
       "      <th>5</th>\n",
       "      <td>0.858034</td>\n",
       "      <td>0.090868</td>\n",
       "      <td>416.0</td>\n",
       "      <td>xgboost-220401-0353-005-ab588233</td>\n",
       "      <td>Completed</td>\n",
       "      <td>0.412221</td>\n",
       "      <td>2022-04-01 03:58:19+00:00</td>\n",
       "      <td>2022-04-01 03:59:36+00:00</td>\n",
       "      <td>77.0</td>\n",
       "    </tr>\n",
       "  </tbody>\n",
       "</table>\n",
       "</div>"
      ],
      "text/plain": [
       "   colsample_bytree    lambda  num_round                   TrainingJobName  \\\n",
       "5          0.858034  0.090868      416.0  xgboost-220401-0353-005-ab588233   \n",
       "\n",
       "  TrainingJobStatus  FinalObjectiveValue         TrainingStartTime  \\\n",
       "5         Completed             0.412221 2022-04-01 03:58:19+00:00   \n",
       "\n",
       "            TrainingEndTime  TrainingElapsedTimeSeconds  \n",
       "5 2022-04-01 03:59:36+00:00                        77.0  "
      ]
     },
     "execution_count": 18,
     "metadata": {},
     "output_type": "execute_result"
    }
   ],
   "source": [
    "df_results[df_results['FinalObjectiveValue'] == df_results['FinalObjectiveValue'].min()]"
   ]
  },
  {
   "cell_type": "markdown",
   "metadata": {},
   "source": [
    "Deploy the best performing model. "
   ]
  },
  {
   "cell_type": "code",
   "execution_count": 19,
   "metadata": {},
   "outputs": [
    {
     "name": "stdout",
     "output_type": "stream",
     "text": [
      "\n",
      "2022-04-01 03:59:36 Starting - Preparing the instances for training\n",
      "2022-04-01 03:59:36 Downloading - Downloading input data\n",
      "2022-04-01 03:59:36 Training - Training image download completed. Training in progress.\n",
      "2022-04-01 03:59:36 Uploading - Uploading generated training model\n",
      "2022-04-01 03:59:36 Completed - Training job completed\n",
      "-----!"
     ]
    }
   ],
   "source": [
    "predictor = tuner.deploy(initial_instance_count=1, instance_type='ml.m5.large')"
   ]
  },
  {
   "cell_type": "code",
   "execution_count": null,
   "metadata": {},
   "outputs": [],
   "source": []
  }
 ],
 "metadata": {
  "instance_type": "ml.t3.medium",
  "kernelspec": {
   "display_name": "Python 3 (Data Science)",
   "language": "python",
   "name": "python3__SAGEMAKER_INTERNAL__arn:aws:sagemaker:us-east-1:081325390199:image/datascience-1.0"
  },
  "language_info": {
   "codemirror_mode": {
    "name": "ipython",
    "version": 3
   },
   "file_extension": ".py",
   "mimetype": "text/x-python",
   "name": "python",
   "nbconvert_exporter": "python",
   "pygments_lexer": "ipython3",
   "version": "3.7.10"
  }
 },
 "nbformat": 4,
 "nbformat_minor": 4
}
