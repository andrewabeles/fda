{
 "cells": [
  {
   "cell_type": "code",
   "execution_count": 1,
   "metadata": {},
   "outputs": [],
   "source": [
    "import sagemaker\n",
    "import boto3\n",
    "import io\n",
    "import json\n",
    "import pandas as pd\n",
    "from sklearn.preprocessing import MultiLabelBinarizer"
   ]
  },
  {
   "cell_type": "code",
   "execution_count": 2,
   "metadata": {},
   "outputs": [],
   "source": [
    "def read_s3_file(client, bucket_name, key):\n",
    "    response = s3.get_object(Bucket=bucket_name, Key=key)\n",
    "    data = response['Body'].read()\n",
    "    return json.loads(data)"
   ]
  },
  {
   "cell_type": "code",
   "execution_count": 3,
   "metadata": {},
   "outputs": [],
   "source": [
    "def process_file_data(data, columns):\n",
    "    return pd.json_normalize(data['results'])[columns]"
   ]
  },
  {
   "cell_type": "code",
   "execution_count": 5,
   "metadata": {},
   "outputs": [],
   "source": [
    "session = sagemaker.Session()"
   ]
  },
  {
   "cell_type": "code",
   "execution_count": 6,
   "metadata": {},
   "outputs": [],
   "source": [
    "s3 = boto3.client('s3')"
   ]
  },
  {
   "cell_type": "code",
   "execution_count": 7,
   "metadata": {},
   "outputs": [],
   "source": [
    "bucket = session.default_bucket()"
   ]
  },
  {
   "cell_type": "code",
   "execution_count": 8,
   "metadata": {},
   "outputs": [],
   "source": [
    "key = 'data/raw/label/drug-label-0001-of-0010.json'"
   ]
  },
  {
   "cell_type": "code",
   "execution_count": 9,
   "metadata": {},
   "outputs": [],
   "source": [
    "data = read_s3_file(s3, bucket, key)"
   ]
  },
  {
   "cell_type": "code",
   "execution_count": 4,
   "metadata": {},
   "outputs": [],
   "source": [
    "columns = [\n",
    "    'set_id',\n",
    "    'id',\n",
    "    'effective_time',\n",
    "    'openfda.route',\n",
    "    'openfda.substance_name',\n",
    "    'openfda.product_type',\n",
    "    'openfda.pharm_class_epc',\n",
    "    'openfda.pharm_class_cs',\n",
    "    'openfda.pharm_class_moa',\n",
    "    'openfda.pharm_class_pe',\n",
    "    'openfda.application_number'\n",
    "]"
   ]
  },
  {
   "cell_type": "code",
   "execution_count": 12,
   "metadata": {},
   "outputs": [],
   "source": [
    "df = process_file_data(data, columns=columns)"
   ]
  },
  {
   "cell_type": "code",
   "execution_count": 13,
   "metadata": {},
   "outputs": [
    {
     "data": {
      "text/html": [
       "<div>\n",
       "<style scoped>\n",
       "    .dataframe tbody tr th:only-of-type {\n",
       "        vertical-align: middle;\n",
       "    }\n",
       "\n",
       "    .dataframe tbody tr th {\n",
       "        vertical-align: top;\n",
       "    }\n",
       "\n",
       "    .dataframe thead th {\n",
       "        text-align: right;\n",
       "    }\n",
       "</style>\n",
       "<table border=\"1\" class=\"dataframe\">\n",
       "  <thead>\n",
       "    <tr style=\"text-align: right;\">\n",
       "      <th></th>\n",
       "      <th>set_id</th>\n",
       "      <th>id</th>\n",
       "      <th>effective_time</th>\n",
       "      <th>openfda.route</th>\n",
       "      <th>openfda.substance_name</th>\n",
       "      <th>openfda.product_type</th>\n",
       "      <th>openfda.pharm_class_epc</th>\n",
       "      <th>openfda.pharm_class_cs</th>\n",
       "      <th>openfda.pharm_class_moa</th>\n",
       "      <th>openfda.pharm_class_pe</th>\n",
       "      <th>openfda.application_number</th>\n",
       "    </tr>\n",
       "  </thead>\n",
       "  <tbody>\n",
       "    <tr>\n",
       "      <th>0</th>\n",
       "      <td>d1697161-ebe8-42b0-83e7-c9de4412546c</td>\n",
       "      <td>4dcb8674-48f7-4229-993d-bca9795b1676</td>\n",
       "      <td>20210824</td>\n",
       "      <td>[ORAL]</td>\n",
       "      <td>[GALANTAMINE HYDROBROMIDE]</td>\n",
       "      <td>[HUMAN PRESCRIPTION DRUG]</td>\n",
       "      <td>NaN</td>\n",
       "      <td>NaN</td>\n",
       "      <td>NaN</td>\n",
       "      <td>NaN</td>\n",
       "      <td>[ANDA090178]</td>\n",
       "    </tr>\n",
       "    <tr>\n",
       "      <th>1</th>\n",
       "      <td>a582d57f-d191-4ca5-b105-585b2d8a0e3e</td>\n",
       "      <td>7519ffff-75f4-4ede-9ee9-b75870506b80</td>\n",
       "      <td>20190204</td>\n",
       "      <td>[ORAL]</td>\n",
       "      <td>[AMPHETAMINE ASPARTATE MONOHYDRATE, AMPHETAMIN...</td>\n",
       "      <td>[HUMAN PRESCRIPTION DRUG]</td>\n",
       "      <td>NaN</td>\n",
       "      <td>NaN</td>\n",
       "      <td>NaN</td>\n",
       "      <td>NaN</td>\n",
       "      <td>[ANDA202424]</td>\n",
       "    </tr>\n",
       "    <tr>\n",
       "      <th>2</th>\n",
       "      <td>6401da8a-8cd5-72f6-e053-2991aa0ad5e0</td>\n",
       "      <td>7aa7efea-fa82-5a1f-e053-2a91aa0a5d7d</td>\n",
       "      <td>20181114</td>\n",
       "      <td>[TOPICAL]</td>\n",
       "      <td>[OCTINOXATE, TITANIUM DIOXIDE, ZINC OXIDE]</td>\n",
       "      <td>[HUMAN OTC DRUG]</td>\n",
       "      <td>NaN</td>\n",
       "      <td>NaN</td>\n",
       "      <td>NaN</td>\n",
       "      <td>NaN</td>\n",
       "      <td>[part352]</td>\n",
       "    </tr>\n",
       "    <tr>\n",
       "      <th>3</th>\n",
       "      <td>ad529830-ad3f-4973-95cf-1e3ed5d15d26</td>\n",
       "      <td>ad529830-ad3f-4973-95cf-1e3ed5d15d26</td>\n",
       "      <td>20220308</td>\n",
       "      <td>[ORAL]</td>\n",
       "      <td>[PHENOBARBITAL]</td>\n",
       "      <td>[HUMAN PRESCRIPTION DRUG]</td>\n",
       "      <td>NaN</td>\n",
       "      <td>NaN</td>\n",
       "      <td>NaN</td>\n",
       "      <td>NaN</td>\n",
       "      <td>NaN</td>\n",
       "    </tr>\n",
       "    <tr>\n",
       "      <th>4</th>\n",
       "      <td>6eb6ddac-fa26-43b3-bf3e-5b7b58138fdc</td>\n",
       "      <td>c52f0d41-044f-4e59-8c06-7c799c48baf7</td>\n",
       "      <td>20200731</td>\n",
       "      <td>[RESPIRATORY (INHALATION)]</td>\n",
       "      <td>[FLUTICASONE PROPIONATE, SALMETEROL XINAFOATE]</td>\n",
       "      <td>[HUMAN PRESCRIPTION DRUG]</td>\n",
       "      <td>NaN</td>\n",
       "      <td>NaN</td>\n",
       "      <td>NaN</td>\n",
       "      <td>NaN</td>\n",
       "      <td>[NDA021077]</td>\n",
       "    </tr>\n",
       "  </tbody>\n",
       "</table>\n",
       "</div>"
      ],
      "text/plain": [
       "                                 set_id                                    id  \\\n",
       "0  d1697161-ebe8-42b0-83e7-c9de4412546c  4dcb8674-48f7-4229-993d-bca9795b1676   \n",
       "1  a582d57f-d191-4ca5-b105-585b2d8a0e3e  7519ffff-75f4-4ede-9ee9-b75870506b80   \n",
       "2  6401da8a-8cd5-72f6-e053-2991aa0ad5e0  7aa7efea-fa82-5a1f-e053-2a91aa0a5d7d   \n",
       "3  ad529830-ad3f-4973-95cf-1e3ed5d15d26  ad529830-ad3f-4973-95cf-1e3ed5d15d26   \n",
       "4  6eb6ddac-fa26-43b3-bf3e-5b7b58138fdc  c52f0d41-044f-4e59-8c06-7c799c48baf7   \n",
       "\n",
       "  effective_time               openfda.route  \\\n",
       "0       20210824                      [ORAL]   \n",
       "1       20190204                      [ORAL]   \n",
       "2       20181114                   [TOPICAL]   \n",
       "3       20220308                      [ORAL]   \n",
       "4       20200731  [RESPIRATORY (INHALATION)]   \n",
       "\n",
       "                              openfda.substance_name  \\\n",
       "0                         [GALANTAMINE HYDROBROMIDE]   \n",
       "1  [AMPHETAMINE ASPARTATE MONOHYDRATE, AMPHETAMIN...   \n",
       "2         [OCTINOXATE, TITANIUM DIOXIDE, ZINC OXIDE]   \n",
       "3                                    [PHENOBARBITAL]   \n",
       "4     [FLUTICASONE PROPIONATE, SALMETEROL XINAFOATE]   \n",
       "\n",
       "        openfda.product_type openfda.pharm_class_epc openfda.pharm_class_cs  \\\n",
       "0  [HUMAN PRESCRIPTION DRUG]                     NaN                    NaN   \n",
       "1  [HUMAN PRESCRIPTION DRUG]                     NaN                    NaN   \n",
       "2           [HUMAN OTC DRUG]                     NaN                    NaN   \n",
       "3  [HUMAN PRESCRIPTION DRUG]                     NaN                    NaN   \n",
       "4  [HUMAN PRESCRIPTION DRUG]                     NaN                    NaN   \n",
       "\n",
       "  openfda.pharm_class_moa openfda.pharm_class_pe openfda.application_number  \n",
       "0                     NaN                    NaN               [ANDA090178]  \n",
       "1                     NaN                    NaN               [ANDA202424]  \n",
       "2                     NaN                    NaN                  [part352]  \n",
       "3                     NaN                    NaN                        NaN  \n",
       "4                     NaN                    NaN                [NDA021077]  "
      ]
     },
     "execution_count": 13,
     "metadata": {},
     "output_type": "execute_result"
    }
   ],
   "source": [
    "df.head()"
   ]
  },
  {
   "cell_type": "code",
   "execution_count": null,
   "metadata": {},
   "outputs": [],
   "source": []
  }
 ],
 "metadata": {
  "instance_type": "ml.t3.medium",
  "kernelspec": {
   "display_name": "Python 3 (Data Science)",
   "language": "python",
   "name": "python3__SAGEMAKER_INTERNAL__arn:aws:sagemaker:us-east-1:081325390199:image/datascience-1.0"
  },
  "language_info": {
   "codemirror_mode": {
    "name": "ipython",
    "version": 3
   },
   "file_extension": ".py",
   "mimetype": "text/x-python",
   "name": "python",
   "nbconvert_exporter": "python",
   "pygments_lexer": "ipython3",
   "version": "3.7.10"
  }
 },
 "nbformat": 4,
 "nbformat_minor": 4
}
