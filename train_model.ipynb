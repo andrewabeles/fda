{
 "cells": [
  {
   "cell_type": "code",
   "execution_count": 1,
   "metadata": {},
   "outputs": [],
   "source": [
    "import sagemaker\n",
    "from sagemaker.xgboost.estimator import XGBoost\n",
    "from sagemaker.session import Session\n",
    "from sagemaker.inputs import TrainingInput"
   ]
  },
  {
   "cell_type": "code",
   "execution_count": 2,
   "metadata": {},
   "outputs": [],
   "source": [
    "# initialize hyperparameters\n",
    "hyperparameters = {\n",
    "    \"objective\":\"binary:logistic\",\n",
    "    \"num_round\": \"50\"\n",
    "}"
   ]
  },
  {
   "cell_type": "code",
   "execution_count": 3,
   "metadata": {},
   "outputs": [],
   "source": [
    "# set an output path where the trained model will be saved\n",
    "bucket = sagemaker.Session().default_bucket()\n",
    "prefix = 'models'\n",
    "output_path = 's3://{}/{}/{}/output'.format(bucket, prefix, 'xgb')"
   ]
  },
  {
   "cell_type": "code",
   "execution_count": 4,
   "metadata": {},
   "outputs": [],
   "source": [
    "# build XGBoost container \n",
    "xgboost_container = sagemaker.image_uris.retrieve('xgboost', 'us-east-1', '1.2-2')"
   ]
  },
  {
   "cell_type": "code",
   "execution_count": 5,
   "metadata": {},
   "outputs": [],
   "source": [
    "# construct a SageMaker estimator that calls the xgboost-container\n",
    "estimator = sagemaker.estimator.Estimator(\n",
    "    image_uri=xgboost_container,\n",
    "    hyperparameters=hyperparameters,\n",
    "    role=sagemaker.get_execution_role(),\n",
    "    instance_count=1,\n",
    "    instance_type='ml.m5.large',\n",
    "    output_path=output_path\n",
    ")"
   ]
  },
  {
   "cell_type": "code",
   "execution_count": 6,
   "metadata": {},
   "outputs": [],
   "source": [
    "# define the paths to the training and validation datasets\n",
    "content_type = 'text/csv'\n",
    "train_input = TrainingInput('s3://{}/{}/{}/'.format(bucket, 'data/train', 'train'), content_type=content_type)\n",
    "validation_input = TrainingInput('s3://{}/{}/{}/'.format(bucket, 'data/train', 'validation'), content_type=content_type)"
   ]
  },
  {
   "cell_type": "code",
   "execution_count": null,
   "metadata": {},
   "outputs": [
    {
     "name": "stdout",
     "output_type": "stream",
     "text": [
      "2022-03-25 18:43:10 Starting - Starting the training job...\n",
      "2022-03-25 18:43:34 Starting - Preparing the instances for trainingProfilerReport-1648233790: InProgress\n",
      ".........\n",
      "2022-03-25 18:44:54 Downloading - Downloading input data...\n",
      "2022-03-25 18:45:40 Training - Downloading the training image......\n",
      "2022-03-25 18:46:41 Training - Training image download completed. Training in progress...\u001b[34m[2022-03-25 18:46:45.091 ip-10-2-112-245.ec2.internal:1 INFO utils.py:27] RULE_JOB_STOP_SIGNAL_FILENAME: None\u001b[0m\n",
      "\u001b[34m[2022-03-25:18:46:45:INFO] Imported framework sagemaker_xgboost_container.training\u001b[0m\n",
      "\u001b[34m[2022-03-25:18:46:45:INFO] Failed to parse hyperparameter objective value binary:logistic to Json.\u001b[0m\n",
      "\u001b[34mReturning the value itself\u001b[0m\n",
      "\u001b[34m[2022-03-25:18:46:45:INFO] No GPUs detected (normal if no gpus installed)\u001b[0m\n",
      "\u001b[34m[2022-03-25:18:46:45:INFO] Running XGBoost Sagemaker in algorithm mode\u001b[0m\n",
      "\u001b[34m[2022-03-25:18:46:45:INFO] Determined delimiter of CSV input is ','\u001b[0m\n",
      "\u001b[34m[2022-03-25:18:46:45:INFO] Determined delimiter of CSV input is ','\u001b[0m\n",
      "\u001b[34m[2022-03-25:18:46:45:INFO] Determined delimiter of CSV input is ','\u001b[0m\n",
      "\u001b[34m[2022-03-25:18:46:45:INFO] Determined delimiter of CSV input is ','\u001b[0m\n",
      "\u001b[34m[2022-03-25:18:46:45:INFO] Single node training.\u001b[0m\n",
      "\u001b[34m[2022-03-25:18:46:45:INFO] Train matrix has 22566 rows and 157 columns\u001b[0m\n",
      "\u001b[34m[2022-03-25:18:46:45:INFO] Validation matrix has 2821 rows\u001b[0m\n",
      "\u001b[34m[0]#011train-error:0.18701#011validation-error:0.19816\u001b[0m\n",
      "\u001b[34m[1]#011train-error:0.18116#011validation-error:0.18859\u001b[0m\n",
      "\u001b[34m[2]#011train-error:0.17677#011validation-error:0.18575\u001b[0m\n",
      "\u001b[34m[3]#011train-error:0.18528#011validation-error:0.19355\u001b[0m\n",
      "\u001b[34m[4]#011train-error:0.17650#011validation-error:0.18398\u001b[0m\n",
      "\u001b[34m[5]#011train-error:0.17704#011validation-error:0.18433\u001b[0m\n",
      "\u001b[34m[6]#011train-error:0.17721#011validation-error:0.18504\u001b[0m\n",
      "\u001b[34m[7]#011train-error:0.17721#011validation-error:0.18504\u001b[0m\n",
      "\u001b[34m[8]#011train-error:0.17491#011validation-error:0.18221\u001b[0m\n",
      "\u001b[34m[9]#011train-error:0.17371#011validation-error:0.18185\u001b[0m\n",
      "\u001b[34m[10]#011train-error:0.17274#011validation-error:0.18185\u001b[0m\n",
      "\u001b[34m[11]#011train-error:0.16990#011validation-error:0.17972\u001b[0m\n",
      "\u001b[34m[12]#011train-error:0.16924#011validation-error:0.17937\u001b[0m\n",
      "\u001b[34m[13]#011train-error:0.16946#011validation-error:0.17972\u001b[0m\n",
      "\u001b[34m[14]#011train-error:0.16839#011validation-error:0.17831\u001b[0m\n",
      "\u001b[34m[15]#011train-error:0.16764#011validation-error:0.17689\u001b[0m\n",
      "\u001b[34m[16]#011train-error:0.16733#011validation-error:0.17618\u001b[0m\n",
      "\u001b[34m[17]#011train-error:0.16733#011validation-error:0.17618\u001b[0m\n",
      "\u001b[34m[18]#011train-error:0.16680#011validation-error:0.17582\u001b[0m\n",
      "\u001b[34m[19]#011train-error:0.16680#011validation-error:0.17582\u001b[0m\n",
      "\u001b[34m[20]#011train-error:0.16680#011validation-error:0.17582\u001b[0m\n",
      "\u001b[34m[21]#011train-error:0.16352#011validation-error:0.17299\u001b[0m\n",
      "\u001b[34m[22]#011train-error:0.16170#011validation-error:0.17228\u001b[0m\n",
      "\u001b[34m[23]#011train-error:0.16117#011validation-error:0.17192\u001b[0m\n",
      "\u001b[34m[24]#011train-error:0.16113#011validation-error:0.17228\u001b[0m\n",
      "\u001b[34m[25]#011train-error:0.16113#011validation-error:0.17228\u001b[0m\n",
      "\u001b[34m[26]#011train-error:0.16051#011validation-error:0.17192\u001b[0m\n",
      "\u001b[34m[27]#011train-error:0.16015#011validation-error:0.17192\u001b[0m\n",
      "\u001b[34m[28]#011train-error:0.16015#011validation-error:0.17192\u001b[0m\n",
      "\u001b[34m[29]#011train-error:0.15913#011validation-error:0.17192\u001b[0m\n",
      "\u001b[34m[30]#011train-error:0.15913#011validation-error:0.17192\u001b[0m\n",
      "\u001b[34m[31]#011train-error:0.15900#011validation-error:0.17228\u001b[0m\n",
      "\u001b[34m[32]#011train-error:0.15900#011validation-error:0.17228\u001b[0m\n",
      "\u001b[34m[33]#011train-error:0.15873#011validation-error:0.17263\u001b[0m\n",
      "\u001b[34m[34]#011train-error:0.15860#011validation-error:0.17228\u001b[0m\n",
      "\u001b[34m[35]#011train-error:0.15811#011validation-error:0.17192\u001b[0m\n",
      "\u001b[34m[36]#011train-error:0.15811#011validation-error:0.17192\u001b[0m\n",
      "\u001b[34m[37]#011train-error:0.15032#011validation-error:0.16271\u001b[0m\n",
      "\u001b[34m[38]#011train-error:0.15036#011validation-error:0.16342\u001b[0m\n",
      "\u001b[34m[39]#011train-error:0.15120#011validation-error:0.16165\u001b[0m\n",
      "\u001b[34m[40]#011train-error:0.15120#011validation-error:0.16129\u001b[0m\n",
      "\u001b[34m[41]#011train-error:0.15107#011validation-error:0.16129\u001b[0m\n",
      "\u001b[34m[42]#011train-error:0.14899#011validation-error:0.16023\u001b[0m\n",
      "\u001b[34m[43]#011train-error:0.14899#011validation-error:0.16023\u001b[0m\n",
      "\u001b[34m[44]#011train-error:0.14899#011validation-error:0.16023\u001b[0m\n",
      "\u001b[34m[45]#011train-error:0.14899#011validation-error:0.16023\u001b[0m\n",
      "\u001b[34m[46]#011train-error:0.14899#011validation-error:0.16023\u001b[0m\n",
      "\u001b[34m[47]#011train-error:0.14899#011validation-error:0.16023\u001b[0m\n",
      "\u001b[34m[48]#011train-error:0.14876#011validation-error:0.15952\u001b[0m\n",
      "\u001b[34m[49]#011train-error:0.14872#011validation-error:0.15952\u001b[0m\n",
      "\n",
      "2022-03-25 18:47:07 Uploading - Uploading generated training model"
     ]
    }
   ],
   "source": [
    "estimator.fit({'train': train_input, 'validation': validation_input})"
   ]
  },
  {
   "cell_type": "code",
   "execution_count": null,
   "metadata": {},
   "outputs": [],
   "source": []
  }
 ],
 "metadata": {
  "instance_type": "ml.t3.medium",
  "kernelspec": {
   "display_name": "Python 3 (Data Science)",
   "language": "python",
   "name": "python3__SAGEMAKER_INTERNAL__arn:aws:sagemaker:us-east-1:081325390199:image/datascience-1.0"
  },
  "language_info": {
   "codemirror_mode": {
    "name": "ipython",
    "version": 3
   },
   "file_extension": ".py",
   "mimetype": "text/x-python",
   "name": "python",
   "nbconvert_exporter": "python",
   "pygments_lexer": "ipython3",
   "version": "3.7.10"
  }
 },
 "nbformat": 4,
 "nbformat_minor": 4
}
