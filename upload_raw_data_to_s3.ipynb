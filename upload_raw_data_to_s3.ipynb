{
 "cells": [
  {
   "cell_type": "code",
   "execution_count": 1,
   "metadata": {},
   "outputs": [],
   "source": [
    "import requests\n",
    "import zipfile\n",
    "import io\n",
    "import json\n",
    "import os\n",
    "import sagemaker"
   ]
  },
  {
   "cell_type": "code",
   "execution_count": 2,
   "metadata": {},
   "outputs": [],
   "source": [
    "def upload_files_to_s3(endpoint, target_directory, session):\n",
    "    download_metadata = get_download_metadata()\n",
    "    source_paths = get_file_paths(download_metadata, endpoint)\n",
    "    for source_path in source_paths:\n",
    "        print('uploading file {} ...'.format(source_path))\n",
    "        upload_file_to_s3(source_path, target_directory, endpoint, session)\n",
    "    print('done')"
   ]
  },
  {
   "cell_type": "code",
   "execution_count": 3,
   "metadata": {},
   "outputs": [],
   "source": [
    "def get_download_metadata():\n",
    "    r = requests.get('https://api.fda.gov/download.json')\n",
    "    return r.json()"
   ]
  },
  {
   "cell_type": "code",
   "execution_count": 4,
   "metadata": {},
   "outputs": [],
   "source": [
    "def get_file_paths(download_metadata, endpoint):\n",
    "    partitions = download_metadata['results']['drug'][endpoint]['partitions']\n",
    "    file_paths = [p['file'] for p in partitions]\n",
    "    return file_paths"
   ]
  },
  {
   "cell_type": "code",
   "execution_count": 5,
   "metadata": {},
   "outputs": [],
   "source": [
    "def upload_file_to_s3(source_path, target_directory, endpoint, session):\n",
    "    r = requests.get(source_path) \n",
    "    z = zipfile.ZipFile(io.BytesIO(r.content))\n",
    "    for n in z.namelist():\n",
    "        session.upload_string_as_file_body(\n",
    "            body=z.read(n),\n",
    "            bucket=session.default_bucket(),\n",
    "            key=os.path.join(target_directory, endpoint, n)\n",
    "        )"
   ]
  },
  {
   "cell_type": "code",
   "execution_count": 6,
   "metadata": {},
   "outputs": [],
   "source": [
    "session = sagemaker.Session()"
   ]
  },
  {
   "cell_type": "code",
   "execution_count": 7,
   "metadata": {},
   "outputs": [],
   "source": [
    "endpoints = ['drugsfda', 'ndc', 'label']"
   ]
  },
  {
   "cell_type": "code",
   "execution_count": 8,
   "metadata": {},
   "outputs": [
    {
     "name": "stdout",
     "output_type": "stream",
     "text": [
      "uploading file https://download.open.fda.gov/drug/drugsfda/drug-drugsfda-0001-of-0001.json.zip ...\n",
      "done\n",
      "uploading file https://download.open.fda.gov/drug/ndc/drug-ndc-0001-of-0001.json.zip ...\n",
      "done\n",
      "uploading file https://download.open.fda.gov/drug/label/drug-label-0001-of-0010.json.zip ...\n",
      "uploading file https://download.open.fda.gov/drug/label/drug-label-0002-of-0010.json.zip ...\n",
      "uploading file https://download.open.fda.gov/drug/label/drug-label-0003-of-0010.json.zip ...\n",
      "uploading file https://download.open.fda.gov/drug/label/drug-label-0004-of-0010.json.zip ...\n",
      "uploading file https://download.open.fda.gov/drug/label/drug-label-0005-of-0010.json.zip ...\n",
      "uploading file https://download.open.fda.gov/drug/label/drug-label-0006-of-0010.json.zip ...\n",
      "uploading file https://download.open.fda.gov/drug/label/drug-label-0007-of-0010.json.zip ...\n",
      "uploading file https://download.open.fda.gov/drug/label/drug-label-0008-of-0010.json.zip ...\n",
      "uploading file https://download.open.fda.gov/drug/label/drug-label-0009-of-0010.json.zip ...\n",
      "uploading file https://download.open.fda.gov/drug/label/drug-label-0010-of-0010.json.zip ...\n",
      "done\n"
     ]
    }
   ],
   "source": [
    "for e in endpoints:\n",
    "    upload_files_to_s3(e, 'data/raw', session)"
   ]
  },
  {
   "cell_type": "code",
   "execution_count": null,
   "metadata": {},
   "outputs": [],
   "source": []
  }
 ],
 "metadata": {
  "instance_type": "ml.t3.medium",
  "kernelspec": {
   "display_name": "Python 3 (Data Science)",
   "language": "python",
   "name": "python3__SAGEMAKER_INTERNAL__arn:aws:sagemaker:us-east-1:081325390199:image/datascience-1.0"
  },
  "language_info": {
   "codemirror_mode": {
    "name": "ipython",
    "version": 3
   },
   "file_extension": ".py",
   "mimetype": "text/x-python",
   "name": "python",
   "nbconvert_exporter": "python",
   "pygments_lexer": "ipython3",
   "version": "3.7.10"
  }
 },
 "nbformat": 4,
 "nbformat_minor": 4
}
