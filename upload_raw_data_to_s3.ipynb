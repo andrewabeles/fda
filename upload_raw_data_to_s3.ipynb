{
 "cells": [
  {
   "cell_type": "code",
   "execution_count": 1,
   "metadata": {},
   "outputs": [],
   "source": [
    "import requests\n",
    "import zipfile\n",
    "import io\n",
    "import json\n",
    "import os\n",
    "import sagemaker"
   ]
  },
  {
   "cell_type": "code",
   "execution_count": 2,
   "metadata": {},
   "outputs": [],
   "source": [
    "def upload_files_to_s3(endpoint, target_directory, session):\n",
    "    download_metadata = get_download_metadata()\n",
    "    source_paths = get_file_paths(download_metadata, endpoint)\n",
    "    for source_path in source_paths:\n",
    "        print('uploading file {} ...'.format())\n",
    "        upload_file_to_s3(source_path, target_directory, endpoint, session)"
   ]
  },
  {
   "cell_type": "code",
   "execution_count": 3,
   "metadata": {},
   "outputs": [],
   "source": [
    "def get_download_metadata():\n",
    "    r = requests.get('https://api.fda.gov/download.json')\n",
    "    return r.json()"
   ]
  },
  {
   "cell_type": "code",
   "execution_count": 4,
   "metadata": {},
   "outputs": [],
   "source": [
    "def get_file_paths(download_metadata, endpoint):\n",
    "    partitions = download_metadata['results']['drug'][endpoint]['partitions']\n",
    "    file_paths = [p['file'] for p in partitions]\n",
    "    return file_paths"
   ]
  },
  {
   "cell_type": "code",
   "execution_count": 5,
   "metadata": {},
   "outputs": [],
   "source": [
    "def upload_file_to_s3(source_path, target_directory, endpoint, session):\n",
    "    r = requests.get(source_path) \n",
    "    z = zipfile.ZipFile(io.BytesIO(r.content))\n",
    "    for n in z.namelist():\n",
    "        session.upload_string_as_file_body(\n",
    "            body=z.read(n),\n",
    "            bucket=session.default_bucket(),\n",
    "            key=os.path.join(target_directory, endpoint, n)\n",
    "        )"
   ]
  },
  {
   "cell_type": "code",
   "execution_count": 6,
   "metadata": {},
   "outputs": [],
   "source": [
    "session = sagemaker.Session()"
   ]
  },
  {
   "cell_type": "code",
   "execution_count": 7,
   "metadata": {},
   "outputs": [],
   "source": [
    "upload_files_to_s3('label', 'raw', session)"
   ]
  },
  {
   "cell_type": "code",
   "execution_count": null,
   "metadata": {},
   "outputs": [],
   "source": []
  }
 ],
 "metadata": {
  "instance_type": "ml.t3.medium",
  "kernelspec": {
   "display_name": "Python 3 (Data Science)",
   "language": "python",
   "name": "python3__SAGEMAKER_INTERNAL__arn:aws:sagemaker:us-east-1:081325390199:image/datascience-1.0"
  },
  "language_info": {
   "codemirror_mode": {
    "name": "ipython",
    "version": 3
   },
   "file_extension": ".py",
   "mimetype": "text/x-python",
   "name": "python",
   "nbconvert_exporter": "python",
   "pygments_lexer": "ipython3",
   "version": "3.7.10"
  }
 },
 "nbformat": 4,
 "nbformat_minor": 4
}
